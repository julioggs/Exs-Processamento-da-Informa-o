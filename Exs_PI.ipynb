{
  "nbformat": 4,
  "nbformat_minor": 0,
  "metadata": {
    "colab": {
      "provenance": []
    },
    "kernelspec": {
      "name": "python3",
      "display_name": "Python 3"
    },
    "language_info": {
      "name": "python"
    }
  },
  "cells": [
    {
      "cell_type": "code",
      "execution_count": null,
      "metadata": {
        "colab": {
          "base_uri": "https://localhost:8080/"
        },
        "id": "Q_K6H3wFjfsD",
        "outputId": "cff3b48a-c74f-44d9-cc4d-c4e502afc9b1"
      },
      "outputs": [
        {
          "output_type": "stream",
          "name": "stdout",
          "text": [
            "Visitanto a posição 0,0: 1\n",
            "Visitanto a posição 0,1: 2\n",
            "Visitanto a posição 0,2: 3\n",
            "Visitanto a posição 1,0: 4\n",
            "Visitanto a posição 1,1: 5\n",
            "Visitanto a posição 1,2: 6\n",
            "Visitanto a posição 2,0: 7\n",
            "Visitanto a posição 2,1: 8\n",
            "Visitanto a posição 2,2: 9\n",
            "Visitanto a posição 3,0: 10\n",
            "Visitanto a posição 3,1: 11\n",
            "Visitanto a posição 3,2: 12\n",
            "12\n"
          ]
        }
      ],
      "source": [
        "def percorrer_matriz(M: list) -> int:\n",
        "   m = len(M)\n",
        "   n = len(M[0])\n",
        "   for i in range(m*n):\n",
        "      elemento = M[i//n][i%n]\n",
        "      print(f\"Visitanto a posição {i//n},{i%n}: {elemento}\")\n",
        "   return elemento\n",
        "\n",
        "M = [1,2,3],[4,5,6],[7,8,9],[10,11,12]\n",
        "print(percorrer_matriz(M))\n",
        "\n"
      ]
    },
    {
      "cell_type": "code",
      "source": [
        "# Lista Sequencial - Desconto\n",
        "import math\n",
        "Vt = float(input())\n",
        "d1 =Vt*0.10\n",
        "d2 = (Vt-d1)*0.10\n",
        "Vf = Vt - (d1 + d2)\n",
        "print(\"{:.2f}\".format(Vf))"
      ],
      "metadata": {
        "id": "T773f-dqjSde"
      },
      "execution_count": null,
      "outputs": []
    },
    {
      "cell_type": "code",
      "source": [
        "#encriptação\n",
        "import math\n",
        "ne = int(input())\n",
        "a = ne % 1000\n",
        "b = a % 100\n",
        "z = b % 10\n",
        "#separando o numero por casas\n",
        "m = ne - a\n",
        "c = a - b\n",
        "d = b - z\n",
        "#encriptação\n",
        "em = m + 1000\n",
        "if em > 9999:\n",
        "  em = 0\n",
        "ec = c + 100\n",
        "if ec > 999:\n",
        "  ec = 0\n",
        "ed = d + 10\n",
        "if ed > 99:\n",
        "  ed = 0\n",
        "eu = z + 1\n",
        "if eu > 9:\n",
        "  eu = 0\n",
        "# numero encriptado\n",
        "nf = em + ec + ed + eu\n",
        "if nf < 999:\n",
        "  print('%04d'%nf)\n",
        "else:\n",
        "  print(nf)"
      ],
      "metadata": {
        "id": "hTFYfXHrjU2Y"
      },
      "execution_count": null,
      "outputs": []
    },
    {
      "cell_type": "code",
      "source": [
        "def m5(x: int) -> int:\n",
        "  soma = 0\n",
        "  p = 1\n",
        "  while p <=x:\n",
        "    s = 1\n",
        "    while s <=x:\n",
        "      soma = soma + 1\n",
        "      s = s + 1\n",
        "    p = p + 1\n",
        "  return soma\n",
        "print(m5(3))"
      ],
      "metadata": {
        "id": "9mBqvaSFjbJA"
      },
      "execution_count": null,
      "outputs": []
    },
    {
      "cell_type": "code",
      "source": [
        "def remover_caractere(string, caractere):\n",
        "    return string.replace(caractere.lower(), '').replace(caractere.upper(), '')\n",
        "\n",
        "# Lê o caractere C e a string S\n",
        "caractere = input(\"Digite o caractere a ser removido: \")\n",
        "string = input(\"Digite a string: \")\n",
        "\n",
        "# Remove o caractere da string\n",
        "nova_string = remover_caractere(string, caractere)\n",
        "\n",
        "# Imprime a nova string\n",
        "print(\"String após remover o caractere '{}':\".format(caractere))\n",
        "print(nova_string)"
      ],
      "metadata": {
        "id": "m2LOxsKNjjlZ"
      },
      "execution_count": null,
      "outputs": []
    },
    {
      "cell_type": "code",
      "source": [
        "def eh_palindromo(palavra):\n",
        "    # Remove espaços em branco e converte para minúsculas\n",
        "    palavra = palavra.replace(\" \", \"\").lower()\n",
        "\n",
        "    # Verifica se a palavra é igual à sua reversa\n",
        "    return palavra == palavra[::-1]\n",
        "\n",
        "# Teste o programa\n",
        "palavra = input(\"Digite uma palavra para verificar se é um palíndromo: \")\n",
        "\n",
        "if eh_palindromo(palavra):\n",
        "    print(\"A palavra '{}' é um palíndromo.\".format(palavra))\n",
        "else:\n",
        "    print(\"A palavra '{}' não é um palíndromo.\".format(palavra))"
      ],
      "metadata": {
        "id": "9yM5ffXNjnGf"
      },
      "execution_count": null,
      "outputs": []
    },
    {
      "cell_type": "code",
      "source": [
        "def m3(L: [int]) -> int:\n",
        "   acc = 0\n",
        "   for i in range(0, len(L), 2):\n",
        "     acc += L[i]\n",
        "   for j in range(1, len(L), 2):\n",
        "     acc += L[j]\n",
        "   return acc\n",
        "\n",
        "m3([0, 1, 2, 3, 4, 5, 6, 7])"
      ],
      "metadata": {
        "id": "kXaE6-U9jq9S"
      },
      "execution_count": null,
      "outputs": []
    },
    {
      "cell_type": "code",
      "source": [
        "def is_sorted(L: [int]) -> bool:\n",
        "    n = len(L)\n",
        "    for i in range(1, n):\n",
        "        if L[i] < L[i - 1]:\n",
        "            return False\n",
        "    return True\n",
        "\n",
        "# Exemplo de uso:\n",
        "lista1 = [1, 2, 3, 4, 5]\n",
        "print(is_sorted(lista1))  # Saída: True\n",
        "\n",
        "lista2 = [5, 3, 7, 1, 9]\n",
        "print(is_sorted(lista2))  # Saída: False"
      ],
      "metadata": {
        "id": "Mv3K550rjyxm"
      },
      "execution_count": null,
      "outputs": []
    },
    {
      "cell_type": "code",
      "source": [
        "n = int(input())\n",
        "L = []\n",
        "for i in range (n):\n",
        "  valor = int(input())\n",
        "  L.append(valor)\n",
        "def vetor(L: [int]) -> bool:\n",
        "  if len(L)%2 == 1:\n",
        "    return False\n",
        "  for i in range(0, len(L), 2):\n",
        "    if L[i] != L[i+1]:\n",
        "            return False\n",
        "\n",
        "    else:\n",
        "      return True\n",
        "\n",
        "if vetor(L):\n",
        "  print(\"Eh um vetor de duplas!\")\n",
        "else:\n",
        "  print(\"Nao eh um vetor de duplas!\")\n"
      ],
      "metadata": {
        "id": "NqalF21Vj1UW"
      },
      "execution_count": null,
      "outputs": []
    },
    {
      "cell_type": "code",
      "source": [
        "def intercalar(v1, v2):\n",
        "  i= 0\n",
        "  j= 0\n",
        "  n1 = len(v1)\n",
        "  n2 = len(v2)\n",
        "  v3 = list()\n",
        "  while i < n1 and j < n2:\n",
        "    if v1[i] < v2[j]:\n",
        "      v3.append(v1[i])\n",
        "      i+= 1\n",
        "\n",
        "    else:\n",
        "      v3.append(v2[j])\n",
        "      j+=1\n",
        "  while i < n1:\n",
        "     v3.append(v1[i])\n",
        "     i = i + 1\n",
        "\n",
        "  while j < n2:\n",
        "    v3.append(v2[j])\n",
        "    j = j + 1\n",
        "\n",
        "\n",
        "  return v3\n",
        "v1 = [1,2,3]\n",
        "v2 = [1,5]\n",
        "print(intercalar(v1,v2))"
      ],
      "metadata": {
        "id": "QSE6rhJRj3hN"
      },
      "execution_count": null,
      "outputs": []
    }
  ]
}